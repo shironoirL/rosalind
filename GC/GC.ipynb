{
 "cells": [
  {
   "cell_type": "markdown",
   "metadata": {
    "pycharm": {
     "name": "#%% md\n"
    }
   },
   "source": [
    "Problem\n",
    "The GC-content of a DNA string is given by the percentage of symbols in the string that are 'C' or 'G'. For example, the GC-content of \"AGCTATAG\" is 37.5%. Note that the reverse complement of any DNA string has the same GC-content.\n",
    "\n",
    "DNA strings must be labeled when they are consolidated into a database. A commonly used method of string labeling is called FASTA format. In this format, the string is introduced by a line that begins with '>', followed by some labeling information. Subsequent lines contain the string itself; the first line to begin with '>' indicates the label of the next string.\n",
    "\n",
    "In Rosalind's implementation, a string in FASTA format will be labeled by the ID \"Rosalind_xxxx\", where \"xxxx\" denotes a four-digit code between 0000 and 9999.\n",
    "\n",
    "Given: At most 10 DNA strings in FASTA format (of length at most 1 kbp each).\n",
    "\n",
    "Return: The ID of the string having the highest GC-content, followed by the GC-content of that string. Rosalind allows for a default error of 0.001 in all decimal answers unless otherwise stated; please see the note on absolute error below.\n",
    "\n",
    "Sample Dataset\n",
    ">Rosalind_6404\n",
    "CCTGCGGAAGATCGGCACTAGAATAGCCAGAACCGTTTCTCTGAGGCTTCCGGCCTTCCC\n",
    "TCCCACTAATAATTCTGAGG\n",
    ">Rosalind_5959\n",
    "CCATCGGTAGCGCATCCTTAGTCCAATTAAGTCCCTATCCAGGCGCTCCGCCGAAGGTCT\n",
    "ATATCCATTTGTCAGCAGACACGC\n",
    ">Rosalind_0808\n",
    "CCACCCTCGTGGTATGGCTAGGCATTCAGGAACCGGAGAACGCTTCAGACCAGCCCGGAC\n",
    "TGGGAACCTGCGGGCAGTAGGTGGAAT\n",
    "Sample Output\n",
    "Rosalind_0808\n",
    "60.919540"
   ]
  },
  {
   "cell_type": "code",
   "execution_count": 1,
   "metadata": {
    "pycharm": {
     "name": "#%%\n"
    }
   },
   "outputs": [],
   "source": [
    "def parse_fasta(file_path):\n",
    "    \"\"\"\n",
    "    Функция для парсинга файла FASTA и возврата словаря с идентификаторами в качестве ключей\n",
    "    и последовательностями нуклеотидов в качестве значений.\n",
    "    \"\"\"\n",
    "    with open(file_path, 'r') as file:\n",
    "        # Инициализируем словарь для хранения результатов\n",
    "        fasta_dict = {}\n",
    "        current_key = None\n",
    "\n",
    "        for line in file:\n",
    "            line = line.strip()  # Убираем пробельные символы с начала и конца строки\n",
    "            if line.startswith('>'):  # Если строка начинается с '>', это идентификатор\n",
    "                current_key = line[1:]  # Сохраняем идентификатор без '>'\n",
    "                fasta_dict[current_key] = []  # Инициализируем список для нуклеотидов\n",
    "            else:\n",
    "                # Добавляем последовательность нуклеотидов к последнему ключу\n",
    "                fasta_dict[current_key].append(line)\n",
    "\n",
    "        # Объединяем все части последовательностей в одну строку для каждого ключа\n",
    "        for key in fasta_dict:\n",
    "            fasta_dict[key] = ''.join(fasta_dict[key])\n",
    "\n",
    "    return fasta_dict"
   ]
  },
  {
   "cell_type": "code",
   "execution_count": 2,
   "metadata": {
    "pycharm": {
     "name": "#%%\n"
    }
   },
   "outputs": [],
   "source": [
    "def gc_content_percentage(fasta_dict):\n",
    "    \"\"\"\n",
    "    Функция для подсчета процента содержания нуклеотидов G и C в каждой последовательности.\n",
    "    Возвращает новый словарь с идентификаторами в качестве ключей и процентом содержания G и C в качестве значений.\n",
    "    \"\"\"\n",
    "    gc_content_dict = {}\n",
    "    for key, sequence in fasta_dict.items():\n",
    "        gc_count = sequence.count('G') + sequence.count('C')  # Подсчет количества G и C\n",
    "        total_length = len(sequence)  # Общая длина последовательности\n",
    "        if total_length > 0:\n",
    "            gc_percentage = (gc_count / total_length) * 100  # Вычисление процента содержания G и C\n",
    "        else:\n",
    "            gc_percentage = 0\n",
    "        gc_content_dict[key] = gc_percentage\n",
    "    return gc_content_dict"
   ]
  },
  {
   "cell_type": "code",
   "execution_count": 4,
   "metadata": {
    "pycharm": {
     "name": "#%%\n"
    }
   },
   "outputs": [],
   "source": [
    "parsed = parse_fasta('rosalind_gc.txt')"
   ]
  },
  {
   "cell_type": "code",
   "execution_count": 5,
   "metadata": {
    "pycharm": {
     "name": "#%%\n"
    }
   },
   "outputs": [
    {
     "data": {
      "text/plain": [
       "{'Rosalind_4547': 50.112866817155755,\n",
       " 'Rosalind_0697': 53.22033898305085,\n",
       " 'Rosalind_0129': 51.2396694214876,\n",
       " 'Rosalind_7579': 48.692152917505034,\n",
       " 'Rosalind_6105': 48.4504132231405,\n",
       " 'Rosalind_4603': 50.271444082519004,\n",
       " 'Rosalind_2739': 52.109704641350206,\n",
       " 'Rosalind_1349': 46.87144482366325,\n",
       " 'Rosalind_2773': 50.91891891891892}"
      ]
     },
     "execution_count": 5,
     "metadata": {},
     "output_type": "execute_result"
    }
   ],
   "source": [
    "gc_content_percentage(parsed)"
   ]
  },
  {
   "cell_type": "code",
   "execution_count": null,
   "metadata": {
    "pycharm": {
     "name": "#%%\n"
    }
   },
   "outputs": [],
   "source": []
  }
 ],
 "metadata": {
  "kernelspec": {
   "display_name": "Python 3",
   "language": "python",
   "name": "python3"
  },
  "language_info": {
   "codemirror_mode": {
    "name": "ipython",
    "version": 3
   },
   "file_extension": ".py",
   "mimetype": "text/x-python",
   "name": "python",
   "nbconvert_exporter": "python",
   "pygments_lexer": "ipython3",
   "version": "3.11.9"
  }
 },
 "nbformat": 4,
 "nbformat_minor": 2
}