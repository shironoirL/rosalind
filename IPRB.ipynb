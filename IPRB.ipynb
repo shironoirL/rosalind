{
 "cells": [
  {
   "cell_type": "markdown",
   "metadata": {},
   "source": [
    "Probability is the mathematical study of randomly occurring phenomena. We will model such a phenomenon with a random variable, which is simply a variable that can take a number of different distinct outcomes depending on the result of an underlying random process.\n",
    "\n",
    "For example, say that we have a bag containing 3 red balls and 2 blue balls. If we let X\n",
    " represent the random variable corresponding to the color of a drawn ball, then the probability of each of the two outcomes is given by Pr(X=red)=35\n",
    " and Pr(X=blue)=25\n",
    ".\n",
    "\n",
    "Random variables can be combined to yield new random variables. Returning to the ball example, let Y\n",
    " model the color of a second ball drawn from the bag (without replacing the first ball). The probability of Y\n",
    " being red depends on whether the first ball was red or blue. To represent all outcomes of X\n",
    " and Y\n",
    ", we therefore use a probability tree diagram. This branching diagram represents all possible individual probabilities for X\n",
    " and Y\n",
    ", with outcomes at the endpoints (\"leaves\") of the tree. The probability of any outcome is given by the product of probabilities along the path from the beginning of the tree; see Figure 2 for an illustrative example.\n",
    "\n",
    "An event is simply a collection of outcomes. Because outcomes are distinct, the probability of an event can be written as the sum of the probabilities of its constituent outcomes. For our colored ball example, let A\n",
    " be the event \"Y\n",
    " is blue.\" Pr(A)\n",
    " is equal to the sum of the probabilities of two different outcomes: Pr(X=blue and Y=blue)+Pr(X=red and Y=blue)\n",
    ", or 310+110=25\n",
    " (see Figure 2 above).\n",
    "\n",
    "Given: Three positive integers k\n",
    ", m\n",
    ", and n\n",
    ", representing a population containing k+m+n\n",
    " organisms: k\n",
    " individuals are homozygous dominant for a factor, m\n",
    " are heterozygous, and n\n",
    " are homozygous recessive.\n",
    "\n",
    "Return: The probability that two randomly selected mating organisms will produce an individual possessing a dominant allele (and thus displaying the dominant phenotype). Assume that any two organisms can mate."
   ]
  },
  {
   "attachments": {
    "image.png": {
     "image/png": "[encoded data removed]"
    }
   },
   "cell_type": "markdown",
   "metadata": {},
   "source": [
    "![image.png](attachment:image.png)"
   ]
  },
  {
   "cell_type": "code",
   "execution_count": 1,
   "metadata": {},
   "outputs": [],
   "source": [
    "def iprb(k,m,n):\n",
    "    sum = k+m+n\n",
    "    return (4*(k*(k-1)+2*k*m+2*k*n+m*n)+3*m*(m-1))/(4*sum*(sum-1))"
   ]
  },
  {
   "cell_type": "code",
   "execution_count": 2,
   "metadata": {},
   "outputs": [
    {
     "data": {
      "text/plain": [
       "0.7833333333333333"
      ]
     },
     "execution_count": 2,
     "metadata": {},
     "output_type": "execute_result"
    }
   ],
   "source": [
    "iprb(2,2,2)"
   ]
  },
  {
   "cell_type": "code",
   "execution_count": 3,
   "metadata": {},
   "outputs": [
    {
     "data": {
      "text/plain": [
       "0.7274011299435028"
      ]
     },
     "execution_count": 3,
     "metadata": {},
     "output_type": "execute_result"
    }
   ],
   "source": [
    "iprb(20,17,23)"
   ]
  }
 ],
 "metadata": {
  "kernelspec": {
   "display_name": "Python 3",
   "language": "python",
   "name": "python3"
  },
  "language_info": {
   "codemirror_mode": {
    "name": "ipython",
    "version": 3
   },
   "file_extension": ".py",
   "mimetype": "text/x-python",
   "name": "python",
   "nbconvert_exporter": "python",
   "pygments_lexer": "ipython3",
   "version": "3.11.9"
  }
 },
 "nbformat": 4,
 "nbformat_minor": 2
}
