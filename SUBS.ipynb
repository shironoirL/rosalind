{
 "cells": [
  {
   "cell_type": "markdown",
   "metadata": {},
   "source": [
    "Problem\n",
    "Given two strings s\n",
    " and t\n",
    ", t\n",
    " is a substring of s\n",
    " if t\n",
    " is contained as a contiguous collection of symbols in s\n",
    " (as a result, t\n",
    " must be no longer than s\n",
    ").\n",
    "\n",
    "The position of a symbol in a string is the total number of symbols found to its left, including itself (e.g., the positions of all occurrences of 'U' in \"AUGCUUCAGAAAGGUCUUACG\" are 2, 5, 6, 15, 17, and 18). The symbol at position i\n",
    " of s\n",
    " is denoted by s[i]\n",
    ".\n",
    "\n",
    "A substring of s\n",
    " can be represented as s[j:k]\n",
    ", where j\n",
    " and k\n",
    " represent the starting and ending positions of the substring in s\n",
    "; for example, if s\n",
    " = \"AUGCUUCAGAAAGGUCUUACG\", then s[2:5]\n",
    " = \"UGCU\".\n",
    "\n",
    "The location of a substring s[j:k]\n",
    " is its beginning position j\n",
    "; note that t\n",
    " will have multiple locations in s\n",
    " if it occurs more than once as a substring of s\n",
    " (see the Sample below).\n",
    "\n",
    "Given: Two DNA strings s\n",
    " and t\n",
    " (each of length at most 1 kbp).\n",
    "\n",
    "Return: All locations of t\n",
    " as a substring of s\n",
    "."
   ]
  },
  {
   "cell_type": "code",
   "execution_count": 32,
   "metadata": {},
   "outputs": [],
   "source": [
    "def subs(s, t):\n",
    "    return [i+1 for i in range(len(s)) if s.startswith(t, i)] \n",
    "# s - полная строка последовательностей\n",
    "# t - искомая подстрока "
   ]
  },
  {
   "cell_type": "code",
   "execution_count": 27,
   "metadata": {},
   "outputs": [],
   "source": [
    "somes = 'AAATGCTGTTTATGCTGTATGCTGTATGCTGTCCCTTCCGATACCCGTGTATGCTGTAATGCTGTCGCATGCTGTGAAGCATGCTGTGCTCTACAGATGCTGTTAGATGCTGTCTCGATGCTGTGCAATGCTGTTGAATGCTGTGTTCATGCTGTGAATGCTGTTTCATGCTGTTAATCGCTTAACCTTGCATGCTGTATGCTGTTTATGCTGTATGCTGTGGTATGCTGTCTGTCTATGCTGTAGACATGCTGTCATGCTGTGAGAATGCTGTAGATGCTGTTTATGCTGTAATGCTGTTCTGGATGCTGTCGATGCTGTTGTGACGCGTCGAGATGCTGTTTATGCTGTATGGTAATGCTGTCGACATGCTGTGCATGCTGTACGATGCTGTATGCTGTTCAGATGCTGTATGCTGTATGCTGTATGCTGTGCAAAATGCTGTTGAATGCTGTATATGCTGTCATGCTGTATGCTGTGATGCTGTATCAGGGTCTATGCTGTTCCGATGCTGTATGCTGTCTAATAACTATGCTGTACCGGCTACAATGCTGTATGCTGTATGCTGTATGCTGTATGCTGTTCTCAGGTATGCTGTGTCGCAGAAATTGCCAATGCTGTATGCTGTCATGCTGTATGCTGTGATGCTGTAATGCTGTCTATGGCCATGCTGTGGTTCCATGCTGTATGCTGTTAATGCTGTATGCTGTATGCTGTTTCAATGCTGTGATGCTGTGTGATGCTGTTATGCTGTCCATGCTGTATGCTGTATGCTGTATGCTGTGATGCTGTGATGCTGTATGCTGTTATGCTGTGCCATGCTGTATGATGCTGTGATGCTGTAGGGTCATGCTGTGATGCTGTATGCTGTGCTAGAAATGCTGTGATGCTGTCCGCGATGCTGTCATTCATGCTGTTTGCGATAATGCTGT'\n",
    "somet = 'ATGCTGTAT'"
   ]
  },
  {
   "cell_type": "code",
   "execution_count": 28,
   "metadata": {},
   "outputs": [
    {
     "name": "stdout",
     "output_type": "stream",
     "text": [
      "12 19 192 208 345 388 406 413 420 449 466 481 509 549 556 563 570 615 630 681 697 704 757 764 771 794 819 858\n"
     ]
    }
   ],
   "source": [
    "print(*subs(somes,somet))"
   ]
  }
 ],
 "metadata": {
  "kernelspec": {
   "display_name": "Python 3",
   "language": "python",
   "name": "python3"
  },
  "language_info": {
   "codemirror_mode": {
    "name": "ipython",
    "version": 3
   },
   "file_extension": ".py",
   "mimetype": "text/x-python",
   "name": "python",
   "nbconvert_exporter": "python",
   "pygments_lexer": "ipython3",
   "version": "3.11.9"
  }
 },
 "nbformat": 4,
 "nbformat_minor": 2
}
